{
 "cells": [
  {
   "cell_type": "markdown",
   "id": "f78da5cd-62c0-4918-894c-28d40acf2f16",
   "metadata": {},
   "source": [
    "# Project: GDP Data extraction and process\n",
    "\n",
    "## Introduction  \n",
    "In this, You will extract data from a website using webscraping and reqeust APIs process it using Pandas and Numpy libraries."
   ]
  },
  {
   "cell_type": "markdown",
   "id": "8651ea5e-85f8-4ac4-b177-11ee95c59888",
   "metadata": {},
   "source": [
    "## Project Scenario:\n",
    "\n",
    "Creating a script that can extract the list of the top 10 largest economies of the world in descending order of their GDPs in Billion USD, as logged by the International Monetary Fund (IMF). \n",
    "\n",
    "URL mentioned below:"
   ]
  },
  {
   "cell_type": "markdown",
   "id": "617cf4c5-0438-47ff-93d2-7e88987c3da0",
   "metadata": {},
   "source": [
    "URL: https://web.archive.org/web/20230902185326/https://en.wikipedia.org/wiki/List_of_countries_by_GDP_%28nominal%29"
   ]
  },
  {
   "cell_type": "markdown",
   "id": "560100a5-5a7a-4e16-9731-167928d134f6",
   "metadata": {},
   "source": [
    "## Objectives\n",
    "\n",
    " - Use Webscraping to extract required information from a website.\n",
    " - Use Pandas to load and process the tabular data as a dataframe.\n",
    " - Use Numpy to manipulate the information contatined in the dataframe.\n",
    " - Load the updated dataframe to CSV file.\n"
   ]
  },
  {
   "cell_type": "code",
   "execution_count": 1,
   "id": "af50ee4b-bef6-4234-94d9-fe23205f6bb5",
   "metadata": {},
   "outputs": [],
   "source": [
    "import numpy as np\n",
    "import pandas as pd\n",
    "import warnings\n",
    "\n",
    "# Suppress warnings\n",
    "def warn(*args, **kwargs):\n",
    "    pass\n",
    "warnings.warn = warn\n",
    "warnings.filterwarnings(\"ignore\")\n"
   ]
  },
  {
   "cell_type": "markdown",
   "id": "701fc2b6-a0d4-43fe-8e7e-ce9e6773b0bf",
   "metadata": {},
   "source": [
    "\n",
    "Extract the required GDP data from the given URL using Web Scraping."
   ]
  },
  {
   "cell_type": "code",
   "execution_count": 2,
   "id": "0401d595-3655-4689-945a-3f0989406d23",
   "metadata": {},
   "outputs": [],
   "source": [
    "URL=\"https://web.archive.org/web/20230902185326/https://en.wikipedia.org/wiki/List_of_countries_by_GDP_%28nominal%29\""
   ]
  },
  {
   "cell_type": "markdown",
   "id": "76aa7e2c-3933-4832-8cbc-02e981dc4c30",
   "metadata": {},
   "source": [
    "You can use Pandas library to extract the required table directly as a DataFrame\n",
    "\n",
    "<img src=\"https://cf-courses-data.s3.us.cloud-object-storage.appdomain.cloud/IBMDeveloperSkillsNetwork-PY0101EN-SkillsNetwork/images/pandas_wbs_3.png\">"
   ]
  },
  {
   "cell_type": "code",
   "execution_count": 3,
   "id": "f3cea65d-5189-477a-a2a3-1020ab463a18",
   "metadata": {
    "scrolled": true
   },
   "outputs": [
    {
     "name": "stdout",
     "output_type": "stream",
     "text": [
      "          Country GDP (Million USD)\n",
      "0   United States          26854599\n",
      "1           China          19373586\n",
      "2           Japan           4409738\n",
      "3         Germany           4308854\n",
      "4           India           3736882\n",
      "5  United Kingdom           3158938\n",
      "6          France           2923489\n",
      "7           Italy           2169745\n",
      "8          Canada           2089672\n",
      "9          Brazil           2081235\n"
     ]
    }
   ],
   "source": [
    "\n",
    "# Extract tables from webpage using Pandas\n",
    "tables = pd.read_html(URL)\n",
    "df = tables[3]\n",
    "\n",
    "df.columns = range(df.shape[1])\n",
    "\n",
    "df = df[[0,2]]\n",
    "\n",
    "df = df.iloc[1:11,:]\n",
    "# Assign column names as \"Country\" and \"GDP (Million USD)\"\n",
    "df.columns = ['Country','GDP (Million USD)']\n",
    "df.reset_index(drop=True, inplace=True)\n",
    "print(df)"
   ]
  },
  {
   "cell_type": "markdown",
   "id": "008b0a93-d892-45c4-ab95-14c175624598",
   "metadata": {},
   "source": [
    "Modify the GDP column of the DataFrame, converting the value Million USD to Billion USD. Use the 'round()' method of Numpy library to round the value to 2 decimal places. Modify the header of the  DataFrame to \"GDP (Billion USD)\""
   ]
  },
  {
   "cell_type": "code",
   "execution_count": 4,
   "id": "e87bc72d-1867-4f43-962d-e1608d4685c8",
   "metadata": {},
   "outputs": [
    {
     "name": "stdout",
     "output_type": "stream",
     "text": [
      "          Country  GDP (Billion USD)\n",
      "0   United States           26854.60\n",
      "1           China           19373.59\n",
      "2           Japan            4409.74\n",
      "3         Germany            4308.85\n",
      "4           India            3736.88\n",
      "5  United Kingdom            3158.94\n",
      "6          France            2923.49\n",
      "7           Italy            2169.74\n",
      "8          Canada            2089.67\n",
      "9          Brazil            2081.24\n"
     ]
    }
   ],
   "source": [
    "\n",
    "\n",
    "# Convert GDP column to integer\n",
    "df[\"GDP (Million USD)\"] = df[\"GDP (Million USD)\"].astype(int)\n",
    "\n",
    "# Convert the GDP from Million to Billion\n",
    "df[\"GDP (Million USD)\"] = df[\"GDP (Million USD)\"] / 1000\n",
    "\n",
    "# Round to 2 decimal places\n",
    "df[\"GDP (Million USD)\"] = np.round(df[\"GDP (Million USD)\"], 2)\n",
    "\n",
    "# Rename column\n",
    "df.rename(columns={\"GDP (Million USD)\": \"GDP (Billion USD)\"}, inplace=True )\n",
    "\n",
    "df.reset_index(drop=True, inplace=True)\n",
    "print(df)"
   ]
  },
  {
   "cell_type": "code",
   "execution_count": 5,
   "id": "d6330f0b-07ac-49b7-8e69-11eed31cef75",
   "metadata": {},
   "outputs": [
    {
     "name": "stdout",
     "output_type": "stream",
     "text": [
      "          Country  GDP (Billion USD)\n",
      "0   United States           26854.60\n",
      "1           China           19373.59\n",
      "2           Japan            4409.74\n",
      "3         Germany            4308.85\n",
      "4           India            3736.88\n",
      "5  United Kingdom            3158.94\n",
      "6          France            2923.49\n",
      "7           Italy            2169.74\n",
      "8          Canada            2089.67\n",
      "9          Brazil            2081.24\n"
     ]
    }
   ],
   "source": [
    "df.to_csv(\"./Largest_economies.csv\", index=False)\n",
    "\n",
    "df2 = pd.read_csv(\"./Largest_economies.csv\")\n",
    "print(df2)"
   ]
  },
  {
   "cell_type": "code",
   "execution_count": null,
   "id": "dd81018e-8420-499f-a4d2-0eec07bc88cb",
   "metadata": {},
   "outputs": [],
   "source": []
  }
 ],
 "metadata": {
  "kernelspec": {
   "display_name": "Python 3 (ipykernel)",
   "language": "python",
   "name": "python3"
  },
  "language_info": {
   "codemirror_mode": {
    "name": "ipython",
    "version": 3
   },
   "file_extension": ".py",
   "mimetype": "text/x-python",
   "name": "python",
   "nbconvert_exporter": "python",
   "pygments_lexer": "ipython3",
   "version": "3.13.1"
  },
  "widgets": {
   "application/vnd.jupyter.widget-state+json": {
    "state": {},
    "version_major": 2,
    "version_minor": 0
   }
  }
 },
 "nbformat": 4,
 "nbformat_minor": 5
}
